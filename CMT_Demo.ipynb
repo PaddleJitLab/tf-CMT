{
 "cells": [
  {
   "cell_type": "code",
   "execution_count": 1,
   "id": "7462a1f3",
   "metadata": {},
   "outputs": [],
   "source": [
    "import tensorflow as tf\n",
    "import tensorflow_datasets as tfds\n",
    "import os \n",
    "from tf_CMT.model import CMT_Model"
   ]
  },
  {
   "cell_type": "code",
   "execution_count": 2,
   "id": "6b9cad54",
   "metadata": {},
   "outputs": [],
   "source": [
    "os.environ[\"XLA_FLAGS\"]=\"--xla_gpu_cuda_data_dir=/usr/local/cuda\"\n",
    "os.environ[\"CUDA_HOME\"]=\"/usr/local/cuda\""
   ]
  },
  {
   "cell_type": "markdown",
   "id": "15776589",
   "metadata": {},
   "source": [
    "## Load mnist dataset"
   ]
  },
  {
   "cell_type": "code",
   "execution_count": 3,
   "id": "78a4519b",
   "metadata": {},
   "outputs": [],
   "source": [
    "(ds_train, ds_test), ds_info = tfds.load(\n",
    "    'mnist',\n",
    "    split=['train', 'test'],\n",
    "    shuffle_files=True,\n",
    "    as_supervised=True,\n",
    "    with_info=True,\n",
    ")"
   ]
  },
  {
   "cell_type": "markdown",
   "id": "f6c94a54",
   "metadata": {},
   "source": [
    "## Normalization"
   ]
  },
  {
   "cell_type": "code",
   "execution_count": 4,
   "id": "acbf47b1",
   "metadata": {},
   "outputs": [],
   "source": [
    "def normalize_img(image, label):\n",
    "    \"\"\"Normalizes images: `uint8` -> `float32`.\"\"\"\n",
    "    return tf.cast(image, tf.float32) / 255., label\n",
    "\n",
    "ds_train = ds_train.map(normalize_img, num_parallel_calls=tf.data.experimental.AUTOTUNE)\n",
    "ds_train = ds_train.cache()\n",
    "ds_train = ds_train.shuffle(ds_info.splits['train'].num_examples)\n",
    "ds_train = ds_train.batch(256)\n",
    "ds_train = ds_train.prefetch(tf.data.experimental.AUTOTUNE)"
   ]
  },
  {
   "cell_type": "code",
   "execution_count": 5,
   "id": "f610471c",
   "metadata": {},
   "outputs": [],
   "source": [
    "ds_test = ds_test.map(normalize_img, num_parallel_calls=tf.data.experimental.AUTOTUNE)\n",
    "ds_test = ds_test.cache()\n",
    "ds_test = ds_test.batch(256)\n",
    "ds_test = ds_test.prefetch(tf.data.experimental.AUTOTUNE)"
   ]
  },
  {
   "cell_type": "markdown",
   "id": "dd123d90",
   "metadata": {},
   "source": [
    "### Define CMT model"
   ]
  },
  {
   "cell_type": "code",
   "execution_count": 6,
   "id": "68c3f5be",
   "metadata": {},
   "outputs": [],
   "source": [
    "model = CMT_Model(Block_num     = [3,12], # Number of CMT_Blocks in each stage\n",
    "                  K             = 2,      # HyperParam to reduce the calculation of self-attention to O(N^2/k^2)\n",
    "                  n_heads       = 4,      # Number of heads\n",
    "                  head_dim      = 256,    # The latent dimension of self-attention\n",
    "                  filters       = 256,    # Number of filters of CNNs\n",
    "                  num_classes   = 10,     # Number of output classes\n",
    "                  usePosBias    = True,   # Use learnable positional bias \n",
    "                  output_logits = True    # Output logits or not\n",
    "                 )"
   ]
  },
  {
   "cell_type": "markdown",
   "id": "27cf5584",
   "metadata": {},
   "source": [
    "### Train model"
   ]
  },
  {
   "cell_type": "code",
   "execution_count": 7,
   "id": "5c35f172",
   "metadata": {},
   "outputs": [],
   "source": [
    "model.compile(\n",
    "    optimizer=tf.keras.optimizers.Adam(0.001),\n",
    "    loss=tf.keras.losses.SparseCategoricalCrossentropy(from_logits=True),\n",
    "    metrics=[tf.keras.metrics.SparseCategoricalAccuracy()],\n",
    ")"
   ]
  },
  {
   "cell_type": "code",
   "execution_count": 8,
   "id": "43e8163b",
   "metadata": {},
   "outputs": [],
   "source": [
    "early_stop = tf.keras.callbacks.EarlyStopping(monitor='val_loss', patience=3)"
   ]
  },
  {
   "cell_type": "code",
   "execution_count": 9,
   "id": "b77d280b",
   "metadata": {},
   "outputs": [
    {
     "name": "stdout",
     "output_type": "stream",
     "text": [
      "Epoch 1/20\n",
      "235/235 [==============================] - 96s 169ms/step - loss: 0.1828 - sparse_categorical_accuracy: 0.9501 - val_loss: 25.9147 - val_sparse_categorical_accuracy: 0.0974\n",
      "Epoch 2/20\n",
      "235/235 [==============================] - 73s 313ms/step - loss: 0.0511 - sparse_categorical_accuracy: 0.9843 - val_loss: 7.9025 - val_sparse_categorical_accuracy: 0.3237\n",
      "Epoch 3/20\n",
      "235/235 [==============================] - 25s 107ms/step - loss: 0.0341 - sparse_categorical_accuracy: 0.9890 - val_loss: 0.0641 - val_sparse_categorical_accuracy: 0.9817\n",
      "Epoch 4/20\n",
      "235/235 [==============================] - 25s 107ms/step - loss: 0.0274 - sparse_categorical_accuracy: 0.9912 - val_loss: 0.0398 - val_sparse_categorical_accuracy: 0.9880\n",
      "Epoch 5/20\n",
      "235/235 [==============================] - 25s 107ms/step - loss: 0.0193 - sparse_categorical_accuracy: 0.9936 - val_loss: 0.0388 - val_sparse_categorical_accuracy: 0.9892\n",
      "Epoch 6/20\n",
      "235/235 [==============================] - 25s 107ms/step - loss: 0.0176 - sparse_categorical_accuracy: 0.9945 - val_loss: 0.0406 - val_sparse_categorical_accuracy: 0.9877\n",
      "Epoch 7/20\n",
      "235/235 [==============================] - 25s 107ms/step - loss: 0.0184 - sparse_categorical_accuracy: 0.9941 - val_loss: 0.0412 - val_sparse_categorical_accuracy: 0.9884\n",
      "Epoch 8/20\n",
      "235/235 [==============================] - 25s 107ms/step - loss: 0.0143 - sparse_categorical_accuracy: 0.9952 - val_loss: 0.0474 - val_sparse_categorical_accuracy: 0.9872\n"
     ]
    },
    {
     "data": {
      "text/plain": [
       "<tensorflow.python.keras.callbacks.History at 0x7f02801ebd10>"
      ]
     },
     "execution_count": 9,
     "metadata": {},
     "output_type": "execute_result"
    }
   ],
   "source": [
    "model.fit(\n",
    "    ds_train,\n",
    "    epochs = 20,\n",
    "    validation_data=ds_test,\n",
    "    callbacks = [early_stop]\n",
    ")"
   ]
  },
  {
   "cell_type": "code",
   "execution_count": null,
   "id": "d4369b75",
   "metadata": {},
   "outputs": [],
   "source": []
  },
  {
   "cell_type": "code",
   "execution_count": null,
   "id": "23cf62ca",
   "metadata": {},
   "outputs": [],
   "source": []
  }
 ],
 "metadata": {
  "kernelspec": {
   "display_name": "HiConformer",
   "language": "python",
   "name": "hiconformer"
  },
  "language_info": {
   "codemirror_mode": {
    "name": "ipython",
    "version": 3
   },
   "file_extension": ".py",
   "mimetype": "text/x-python",
   "name": "python",
   "nbconvert_exporter": "python",
   "pygments_lexer": "ipython3",
   "version": "3.7.10"
  }
 },
 "nbformat": 4,
 "nbformat_minor": 5
}
